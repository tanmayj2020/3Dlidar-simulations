{
  "nbformat": 4,
  "nbformat_minor": 0,
  "metadata": {
    "colab": {
      "name": "tensorflow(constants/variables/placeholders).ipynb",
      "provenance": [],
      "authorship_tag": "ABX9TyP3uHkbeQT301aJlsDoC3eC",
      "include_colab_link": true
    },
    "kernelspec": {
      "name": "python3",
      "display_name": "Python 3"
    }
  },
  "cells": [
    {
      "cell_type": "markdown",
      "metadata": {
        "id": "view-in-github",
        "colab_type": "text"
      },
      "source": [
        "<a href=\"https://colab.research.google.com/github/tanmayj2020/3Dlidar-simulations/blob/master/tensorflow(constants_variables_placeholders).ipynb\" target=\"_parent\"><img src=\"https://colab.research.google.com/assets/colab-badge.svg\" alt=\"Open In Colab\"/></a>"
      ]
    },
    {
      "cell_type": "code",
      "metadata": {
        "id": "82vmkyo6kIly"
      },
      "source": [
        "import tensorflow as tf\r\n",
        "import numpy as np"
      ],
      "execution_count": 1,
      "outputs": []
    },
    {
      "cell_type": "code",
      "metadata": {
        "id": "8weLNyhYkaiG"
      },
      "source": [
        "tf.compat.v1.disable_eager_execution()"
      ],
      "execution_count": 3,
      "outputs": []
    },
    {
      "cell_type": "markdown",
      "metadata": {
        "id": "BY9kmFU9rIjd"
      },
      "source": [
        "# Constants in Tensorflow"
      ]
    },
    {
      "cell_type": "code",
      "metadata": {
        "colab": {
          "base_uri": "https://localhost:8080/"
        },
        "id": "zeeklx05kdHr",
        "outputId": "3e629187-7859-4180-fa47-32190b446fea"
      },
      "source": [
        "#Creating the constants\r\n",
        "a = tf.constant(3)\r\n",
        "b = tf.constant(5)\r\n",
        "c = a + b\r\n",
        "#Above computational graph is created now execute the graph\r\n",
        "with tf.compat.v1.Session() as sess:\r\n",
        "  print(sess.run(c))\r\n",
        "  "
      ],
      "execution_count": 17,
      "outputs": [
        {
          "output_type": "stream",
          "text": [
            "8\n"
          ],
          "name": "stdout"
        }
      ]
    },
    {
      "cell_type": "markdown",
      "metadata": {
        "id": "G25H2Ar4rNTL"
      },
      "source": [
        "# Variables in Tensorflow"
      ]
    },
    {
      "cell_type": "code",
      "metadata": {
        "colab": {
          "base_uri": "https://localhost:8080/"
        },
        "id": "x4IexaVrrP3r",
        "outputId": "f48129cb-abf0-44a8-ced2-cb868d4cb162"
      },
      "source": [
        "d = tf.Variable(3)\r\n",
        "e = tf.constant(1)\r\n",
        "mid = tf.add(d ,e)\r\n",
        "update = tf.compat.v1.assign(d , mid)\r\n",
        "initializer = tf.compat.v1.initialize_all_variables()\r\n",
        "with tf.compat.v1.Session() as sess:\r\n",
        " sess.run(initializer)\r\n",
        " print(sess.run(d))\r\n",
        " for i in range(3):\r\n",
        "  sess.run(update)\r\n",
        "  print(sess.run(d))"
      ],
      "execution_count": 26,
      "outputs": [
        {
          "output_type": "stream",
          "text": [
            "WARNING:tensorflow:From /usr/local/lib/python3.6/dist-packages/tensorflow/python/util/tf_should_use.py:247: initialize_all_variables (from tensorflow.python.ops.variables) is deprecated and will be removed after 2017-03-02.\n",
            "Instructions for updating:\n",
            "Use `tf.global_variables_initializer` instead.\n",
            "3\n",
            "4\n",
            "5\n",
            "6\n"
          ],
          "name": "stdout"
        }
      ]
    },
    {
      "cell_type": "markdown",
      "metadata": {
        "id": "v_EOMJY84w1x"
      },
      "source": [
        "# PlaceHolders in Tensorflow"
      ]
    },
    {
      "cell_type": "code",
      "metadata": {
        "colab": {
          "base_uri": "https://localhost:8080/"
        },
        "id": "YCG8_tBCtXVm",
        "outputId": "845216b6-07ba-4c11-ea4f-e70409403de3"
      },
      "source": [
        "#None in placeholder specifies that 1d vector of as many dimensions we want if we want matrix [None , None] (as many rows and columns)\r\n",
        "x = tf.compat.v1.placeholder(\"float\" , None)\r\n",
        "y = x ** 2\r\n",
        "with tf.compat.v1.Session() as sess:\r\n",
        "  print(sess.run(y , feed_dict = {x:[1,2,3]}))"
      ],
      "execution_count": 29,
      "outputs": [
        {
          "output_type": "stream",
          "text": [
            "[1. 4. 9.]\n"
          ],
          "name": "stdout"
        }
      ]
    },
    {
      "cell_type": "code",
      "metadata": {
        "id": "BKB_KCk05ANE"
      },
      "source": [
        ""
      ],
      "execution_count": null,
      "outputs": []
    }
  ]
}